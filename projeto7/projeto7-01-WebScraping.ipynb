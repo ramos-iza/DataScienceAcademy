{
 "cells": [
  {
   "cell_type": "markdown",
   "metadata": {},
   "source": [
    "# <font color='blue'>Data Science Academy</font>\n",
    "# <font color='blue'>Análise de Dados com Linguagem Python</font>\n",
    "\n",
    "## <font color='blue'>Projeto 7</font>\n",
    "## <font color='blue'>Web Data Analytics - Web Scraping</font>"
   ]
  },
  {
   "cell_type": "code",
   "execution_count": 5,
   "metadata": {},
   "outputs": [
    {
     "name": "stdout",
     "output_type": "stream",
     "text": [
      "Versão da Linguagem Python Usada Neste Jupyter Notebook: 3.8.17\n"
     ]
    }
   ],
   "source": [
    "# Versão da Linguagem Python\n",
    "from platform import python_version\n",
    "print('Versão da Linguagem Python Usada Neste Jupyter Notebook:', python_version())"
   ]
  },
  {
   "cell_type": "code",
   "execution_count": 6,
   "metadata": {},
   "outputs": [],
   "source": [
    "# Imports\n",
    "import re\n",
    "import bs4\n",
    "import time\n",
    "import json\n",
    "import requests\n",
    "from bs4 import BeautifulSoup as bs"
   ]
  },
  {
   "cell_type": "code",
   "execution_count": 7,
   "metadata": {},
   "outputs": [
    {
     "name": "stdout",
     "output_type": "stream",
     "text": [
      "Author: Data Science Academy\n",
      "\n",
      "json    : 2.0.9\n",
      "requests: 2.31.0\n",
      "re      : 2.2.1\n",
      "bs4     : 4.12.2\n",
      "\n"
     ]
    }
   ],
   "source": [
    "# Versões dos pacotes usados neste jupyter notebook\n",
    "%reload_ext watermark\n",
    "%watermark -a \"Data Science Academy\" --iversions"
   ]
  },
  {
   "cell_type": "markdown",
   "metadata": {},
   "source": [
    "## Funções Para Extração de Dados Via Web Scraping"
   ]
  },
  {
   "cell_type": "code",
   "execution_count": 18,
   "metadata": {},
   "outputs": [],
   "source": [
    "# Função para obter tudo que estiver nas tags td e div e com seletor CSS spaceit_pad\n",
    "# Assim extraímos informações gerais da página\n",
    "def getInfoGeral(soup):\n",
    "    information = soup.select(\"td div .spaceit_pad\")\n",
    "    side_info_par = []\n",
    "    for info in information:\n",
    "        side_info_par.append(info.text.split())\n",
    "    return side_info_par"
   ]
  },
  {
   "cell_type": "code",
   "execution_count": 20,
   "metadata": {},
   "outputs": [],
   "source": [
    "# Função para obter o número de pessoas que adicionaram o anime aos favoritos\n",
    "def getFavorite(information):\n",
    "    for info in information:\n",
    "        if info[0] == \"Favorites:\":\n",
    "            data = info[1].split(\",\")\n",
    "            return int(\"\".join(data))\n",
    "    return None"
   ]
  },
  {
   "cell_type": "code",
   "execution_count": 21,
   "metadata": {},
   "outputs": [],
   "source": [
    "# Função para obter o número do episódio\n",
    "def episodeNumberParser(information):\n",
    "    for info in information:\n",
    "        if (info[0] == \"Episodes:\"):\n",
    "            if info[1] != \"Unknown\":\n",
    "                return int(info[1])\n",
    "            return None\n",
    "    return None"
   ]
  },
  {
   "cell_type": "code",
   "execution_count": 22,
   "metadata": {},
   "outputs": [],
   "source": [
    "# Função para obter o tipo de anime TV\n",
    "def typeParser(information):\n",
    "    for info in information:\n",
    "        if (info[0] == \"Type:\"):\n",
    "            return info[1]\n",
    "    return None"
   ]
  },
  {
   "cell_type": "code",
   "execution_count": 23,
   "metadata": {},
   "outputs": [],
   "source": [
    "# Função para obter o dia em que o anime estreou\n",
    "def dayPremiered(information):\n",
    "    for info in information:\n",
    "        if (info[0] == \"Premiered:\"):\n",
    "            premired_day = \"\"\n",
    "            return \" \".join(info[1:])\n",
    "    return None"
   ]
  },
  {
   "cell_type": "code",
   "execution_count": 24,
   "metadata": {},
   "outputs": [],
   "source": [
    "# Função para obter a fonte de onde do anime\n",
    "def getSource(information):\n",
    "    for info in information:\n",
    "        if info[0] == \"Source:\":\n",
    "            return \" \".join(info[1:])\n",
    "    return None"
   ]
  },
  {
   "cell_type": "code",
   "execution_count": 25,
   "metadata": {},
   "outputs": [],
   "source": [
    "# Função para retornar uma lista de gêneros do anime\n",
    "def getGenres(information):\n",
    "    for info in information:\n",
    "        if info[0] == \"Genres:\":\n",
    "            genres = \"\".join(info[1:])\n",
    "            return genres.split(\",\")\n",
    "    return None"
   ]
  },
  {
   "cell_type": "code",
   "execution_count": 26,
   "metadata": {},
   "outputs": [],
   "source": [
    "# Função que retorna uma lista de estúdios que estão patrocinando este anime\n",
    "def getStudios(information):\n",
    "    for info in information:\n",
    "        if info[0] == \"Studios:\":\n",
    "            return \" \".join(info[1:])\n",
    "    return None"
   ]
  },
  {
   "cell_type": "code",
   "execution_count": 27,
   "metadata": {},
   "outputs": [],
   "source": [
    "# Função que retorna uma lista de empresas que realmente possuem a licença deste anime\n",
    "def getLicense(information):\n",
    "    for info in information:\n",
    "        if info[0] == \"Licensors:\":\n",
    "            if info[1] == \"None\":\n",
    "                return None\n",
    "            license = \"\".join(info[1:])\n",
    "            return license.split(\",\")\n",
    "    return None"
   ]
  },
  {
   "cell_type": "code",
   "execution_count": 28,
   "metadata": {},
   "outputs": [],
   "source": [
    "# Função que obtém a classificação do filme \n",
    "def getRating(information):\n",
    "    for info in information:\n",
    "        if info[0] == \"Rating:\":\n",
    "            return \"\".join(info[1:4])\n",
    "    return None"
   ]
  },
  {
   "cell_type": "markdown",
   "metadata": {},
   "source": [
    "#### Como encontrar os producers:\n",
    "\n",
    "`finding_producers = soup2.find_all([\"div\",\"a\"], class_=[\"spaceit_pad\"])`\n",
    "\n",
    "Primeiro encontre os dados usando find_all dos produtores mencionado acima.\n",
    "Em seguida, enumere os dados encontrados.\n",
    "\n",
    "`for index, j in enumerate(div_and_a):\n",
    "    if finding_producers[index].text.split(\"\\n\")[1] == \"Producers:\":\n",
    "        print(finding_producers[index])`\n",
    "\n",
    "Se o primeiro índice == \"Producers:\"  então você obtém o índice onde encontrou os \"Produtores\".\n",
    "\n",
    "E então usamos o índice conforme o código abaixo."
   ]
  },
  {
   "cell_type": "code",
   "execution_count": 31,
   "metadata": {},
   "outputs": [],
   "source": [
    "# Função para obter o nome de empresas que estão financiando o anime (Producers)\n",
    "def producers_names(soup):\n",
    "    div_and_a = soup.find_all([\"div\",\"a\"], class_=[\"spaceit_pad\"])\n",
    "    for index, j in enumerate(div_and_a):\n",
    "        if div_and_a[index].text.split(\"\\n\")[1] == \"Producers:\":\n",
    "            res = re.sub(\" *\", \"\", div_and_a[index].text)\n",
    "            new_res = res.split(\"\\n\")\n",
    "            for i,j in enumerate(new_res):\n",
    "                if j == \"Producers:\":\n",
    "                    return new_res[i+1].split(\",\")\n",
    "                    break\n",
    "    return None"
   ]
  },
  {
   "cell_type": "code",
   "execution_count": 32,
   "metadata": {},
   "outputs": [],
   "source": [
    "# Função para obter informações de ranking\n",
    "def getRanking(soup):\n",
    "    ranking = soup.select_one(\".ranked strong\").text\n",
    "    data = ranking.split(\"#\")[1]\n",
    "    return int(data)"
   ]
  },
  {
   "cell_type": "code",
   "execution_count": 33,
   "metadata": {},
   "outputs": [],
   "source": [
    "# Função para obter o score do Anime\n",
    "def getScore(soup):\n",
    "    data = float(soup.select_one(\".score-label\").text)\n",
    "    return data"
   ]
  },
  {
   "cell_type": "code",
   "execution_count": 34,
   "metadata": {},
   "outputs": [],
   "source": [
    "# Função para obter informação de popularidade\n",
    "def getPopularity(soup):\n",
    "    popularity = soup.select_one(\".popularity strong\").text\n",
    "    data = popularity.split(\"#\")[1]\n",
    "    return int(data)"
   ]
  },
  {
   "cell_type": "code",
   "execution_count": 35,
   "metadata": {},
   "outputs": [],
   "source": [
    "# Função para obter informação sobre os membros\n",
    "def getMembers(soup):\n",
    "    members = soup.select_one(\".members strong\").text\n",
    "    data = members.split(\",\")\n",
    "    return int(\"\".join(data))"
   ]
  },
  {
   "cell_type": "code",
   "execution_count": 36,
   "metadata": {},
   "outputs": [],
   "source": [
    "# Função para obter o número de pessoas que votaram no anime\n",
    "def votersCount(soup):\n",
    "    count = soup.select(\".js-statistics-info span\")\n",
    "    data = []\n",
    "    for i in count:\n",
    "        data.append(i.text)\n",
    "    if len(data) > 3:\n",
    "        return int(data[2])\n",
    "    return None"
   ]
  },
  {
   "cell_type": "code",
   "execution_count": 37,
   "metadata": {},
   "outputs": [],
   "source": [
    "# Função para obter a voz do ator que faz a narração\n",
    "def voiceActorsName(soup):\n",
    "    actorNames = []\n",
    "    names = soup.select(\".js-anime-character-va-lang .spaceit_pad a\")\n",
    "    for name in names:\n",
    "        data = \"\".join(name.text.split())\n",
    "        actorNames.append(data)\n",
    "    return actorNames"
   ]
  },
  {
   "cell_type": "code",
   "execution_count": 38,
   "metadata": {},
   "outputs": [],
   "source": [
    "# Função para obter o idioma do ator que faz a narração\n",
    "def voiceActorsLanguage(soup):\n",
    "    languages = []\n",
    "    langNames = soup.select(\".js-anime-character-language\")\n",
    "    for language in langNames:\n",
    "        lang = \"\".join(language.text.split())\n",
    "        languages.append(lang)\n",
    "    return languages"
   ]
  },
  {
   "cell_type": "code",
   "execution_count": 39,
   "metadata": {},
   "outputs": [],
   "source": [
    "# Função que usa o voiceActorName e voiceActorsLanguage para criar um dataframe \n",
    "# que irá anexar todas as informações relacionadas às vozes dos atores.\n",
    "# Usando essas informações, dividiremos os voiceActors com base em seus idiomas.\n",
    "def voiceActorNameandLanguage(soup):\n",
    "    names = voiceActorsName(soup)\n",
    "    languages = voiceActorsLanguage(soup)\n",
    "    namesAndLang = []\n",
    "    for i in range(len(names)):\n",
    "        namesAndLang.append([names[i], languages[i]])\n",
    "    return namesAndLang"
   ]
  },
  {
   "cell_type": "code",
   "execution_count": 40,
   "metadata": {},
   "outputs": [],
   "source": [
    "# Função que retorna a ocupação de cada funcionário\n",
    "def staffOccupation(soup):\n",
    "    data = []\n",
    "    for i in soup.select('td .js-scrollfix-bottom-rel .spaceit_pad small'):\n",
    "        data.append(\"\".join(i.text.split()))\n",
    "    return data"
   ]
  },
  {
   "cell_type": "code",
   "execution_count": 41,
   "metadata": {},
   "outputs": [],
   "source": [
    "# Função que retorna o nome dos funcionários\n",
    "def staffName(soup):\n",
    "    data = []\n",
    "    for i in soup.select('td .js-scrollfix-bottom-rel a'):\n",
    "        data.append(\"\".join(i.text.split()))\n",
    "    uncleanData = []\n",
    "    for index, info in enumerate(data):\n",
    "        if info == \"Addstaff\":\n",
    "            uncleanData.append(data[index+1:])\n",
    "            break\n",
    "    cleanData = []\n",
    "    for i in uncleanData:\n",
    "        for j in i:\n",
    "            if len(j) > 1:\n",
    "                cleanData.append(j)\n",
    "    return cleanData"
   ]
  },
  {
   "cell_type": "code",
   "execution_count": 42,
   "metadata": {},
   "outputs": [],
   "source": [
    "# Função que concatena nome e ocupação dos funcionários\n",
    "def staffNameandOccupation(soup):\n",
    "    name = staffName(soup)\n",
    "    occupation = staffOccupation(soup)\n",
    "    nameAndOccupation = []\n",
    "    for i in range(len(name)):\n",
    "        nameAndOccupation.append([name[i], occupation[i]])\n",
    "    return nameAndOccupation"
   ]
  },
  {
   "cell_type": "code",
   "execution_count": 43,
   "metadata": {},
   "outputs": [],
   "source": [
    "# Função que retorna o nome do Anime\n",
    "def animeName(soup):\n",
    "    name = soup.select_one(\".title-name\").text\n",
    "    if len(name) > 1:\n",
    "        return name\n",
    "    return None"
   ]
  },
  {
   "attachments": {},
   "cell_type": "markdown",
   "metadata": {},
   "source": [
    "## Web Scraping\n",
    "\n",
    "https://myanimelist.net/topanime.php?type=airing&limit=100"
   ]
  },
  {
   "attachments": {},
   "cell_type": "markdown",
   "metadata": {},
   "source": [
    "> O loop abaixo navega pelo web site e obtém os links dos animes, até o limite de 451. Os resultados de cada página (com 50 links) são salvos em arquivos txt."
   ]
  },
  {
   "cell_type": "code",
   "execution_count": 11,
   "metadata": {},
   "outputs": [
    {
     "name": "stdout",
     "output_type": "stream",
     "text": [
      "200\n",
      "200\n",
      "200\n",
      "200\n",
      "200\n",
      "200\n",
      "200\n",
      "200\n",
      "200\n",
      "200\n",
      "CPU times: user 1.4 s, sys: 122 ms, total: 1.52 s\n",
      "Wall time: 1min 49s\n"
     ]
    }
   ],
   "source": [
    "%%time\n",
    "for limit in range(0, 451, 50): \n",
    "    \n",
    "    # Lista para os links\n",
    "    links = []\n",
    "    \n",
    "    # URL\n",
    "    url = f\"https://myanimelist.net/topanime.php?limit={limit}\"\n",
    "    \n",
    "    # Request\n",
    "    rq = requests.get(url)\n",
    "    print(rq.status_code)\n",
    "    \n",
    "    # Parse do html\n",
    "    soup = bs(rq.text, \"html.parser\")\n",
    "    \n",
    "    # Seleção do que desejamos\n",
    "    listsofA = soup.select(\".hoverinfo_trigger a\")\n",
    "    \n",
    "    # Loop para extrair o atributo href da tag a\n",
    "    for a in listsofA:\n",
    "        links.append(a.get(\"href\"))\n",
    "        \n",
    "    # Abre o arquivo em disco\n",
    "    file = open(f\"/Users/izadoraramos/Desktop/DataScienceAcademy/projeto7/dados/AnimeLinks/animeLinks{limit}.txt\", \"w\")\n",
    "    \n",
    "    # Loop para salvar em disco\n",
    "    for link in links:\n",
    "        file.writelines(link+'\\n')\n",
    "        \n",
    "    # Fecha o arquivo\n",
    "    file.close()\n",
    "    \n",
    "    # Sleep\n",
    "    time.sleep(10)"
   ]
  },
  {
   "attachments": {},
   "cell_type": "markdown",
   "metadata": {},
   "source": [
    "> O loop abaixo faz a leitura dos arquivos txt extraídos no loop anterior e aplica as funções de web scraping para extrair os dados de cada link. Os resultados de cada página são salvos em arquivos txt."
   ]
  },
  {
   "cell_type": "code",
   "execution_count": null,
   "metadata": {},
   "outputs": [],
   "source": [
    "%%time\n",
    "for limit in range(0, 451, 50):\n",
    "    \n",
    "    # Lista\n",
    "    animeInfo = []\n",
    "    \n",
    "    # Leitura dos arquivos txt com os links\n",
    "    with open(f\"/Users/izadoraramos/Desktop/DataScienceAcademy/projeto7/dados/AnimeLinks/animeLinks{limit}.txt\", \"r\") as file:\n",
    "        links = file.readlines()\n",
    "    \n",
    "    print(\"Fazendo Web Scraping. Seja paciente e aguarde...\")\n",
    "    \n",
    "    # Request para cada link\n",
    "    for link in links:\n",
    "        \n",
    "        # Exemplo de url: https://myanimelist.net/anime/5114/Fullmetal_Alchemist__Brotherhood\n",
    "        rq = requests.get(link)\n",
    "        \n",
    "        # Exemplo de url: https://myanimelist.net/anime/5114/Fullmetal_Alchemist__Brotherhood/characters\n",
    "        rq2 = requests.get(link[:-2] + \"/characters\")\n",
    "        \n",
    "        # Soup com parse do html\n",
    "        soup = bs(rq.text, \"html.parser\")\n",
    "        soup2 = bs(rq2.text, \"html.parser\")\n",
    "        \n",
    "        # Obtém info geral da página\n",
    "        information = getInfoGeral(soup)\n",
    "        \n",
    "        # Extrai os dados e salva na lista no formato de dicionário\n",
    "        animeInfo.append(dict(\n",
    "            name                      = animeName(soup),\n",
    "            producers                 = producers_names(soup),\n",
    "            ranking                   = getRanking(soup),\n",
    "            votersCount               = votersCount(soup),\n",
    "            score                     = getScore(soup),\n",
    "            popularity                = getPopularity(soup),\n",
    "            members                   = getMembers(soup),\n",
    "            favorite                  = getFavorite(information),\n",
    "            episodes                  = episodeNumberParser(information),\n",
    "            animeType                 = typeParser(information),\n",
    "            premiredDate              = dayPremiered(information),\n",
    "            animeSource               = getSource(information),\n",
    "            genres                    = getGenres(information),\n",
    "            studios                   = getStudios(information),\n",
    "            licenses                  = getLicense(information),\n",
    "            rating                    = getRating(information),\n",
    "            voiceActorNameandLanguage = voiceActorNameandLanguage(soup2),\n",
    "            staffNameandOccupation    = staffNameandOccupation(soup2)))\n",
    "        \n",
    "        # Sleep\n",
    "        time.sleep(10)\n",
    "\n",
    "    # Grava o resultado em disco\n",
    "    with open(f\"/Users/izadoraramos/Desktop/DataScienceAcademy/projeto7/dados/AnimeLinks/animeLinks{limit}.txt\", 'w') as fout:\n",
    "        json.dump(animeInfo, fout)\n",
    "        \n",
    "    # Sleep\n",
    "    time.sleep(10)"
   ]
  },
  {
   "attachments": {},
   "cell_type": "markdown",
   "metadata": {},
   "source": [
    "> O loop abaixo faz a leitura dos arquivos txt com os links dos animes e extrai os nomes dos animes, salvando o resultado em disco."
   ]
  },
  {
   "cell_type": "code",
   "execution_count": null,
   "metadata": {},
   "outputs": [],
   "source": [
    "%%time\n",
    "for limit in range(0, 451, 50):\n",
    "    \n",
    "    # Lista\n",
    "    animeInfoName = []\n",
    "    \n",
    "    # Abre os arquivos de links para leitura\n",
    "    with open(f\"/Users/izadoraramos/Desktop/DataScienceAcademy/projeto7/dados/AnimeLinks/animeLinks{limit}.txt\", \"r\") as file:\n",
    "        links = file.readlines()\n",
    "    \n",
    "    print(\"Extraindo os nomes dos animes. Seja paciente e aguarde...\")\n",
    "    \n",
    "    # Loop pelos links para extrair o nome dos animes\n",
    "    for link in links:\n",
    "        rq = requests.get(link)\n",
    "        soup = bs(rq.text, \"html.parser\")\n",
    "        animeInfoName.append(dict(name = animeName(soup)))\n",
    "        time.sleep(5)\n",
    "\n",
    "    # Salva o resultado em disco no formato json\n",
    "    with open(f\"/Users/izadoraramos/Desktop/DataScienceAcademy/projeto7/dados/AnimeInfoNames/animeInfoNames{limit}.txt\", 'w') as fout:\n",
    "        json.dump(animeInfoName, fout)\n",
    "        "
   ]
  },
  {
   "cell_type": "code",
   "execution_count": 53,
   "metadata": {},
   "outputs": [
    {
     "name": "stdout",
     "output_type": "stream",
     "text": [
      "\n",
      "Web Scraping Concluído com Sucesso. Obrigado Por Aguardar.\n",
      "\n"
     ]
    }
   ],
   "source": [
    "print(\"\\nWeb Scraping Concluído com Sucesso. Obrigado Por Aguardar.\\n\")"
   ]
  },
  {
   "cell_type": "markdown",
   "metadata": {},
   "source": [
    "# Fim"
   ]
  }
 ],
 "metadata": {
  "kernelspec": {
   "display_name": "dsa",
   "language": "python",
   "name": "python3"
  },
  "language_info": {
   "name": "python",
   "version": "3.8.17"
  },
  "orig_nbformat": 4
 },
 "nbformat": 4,
 "nbformat_minor": 2
}
